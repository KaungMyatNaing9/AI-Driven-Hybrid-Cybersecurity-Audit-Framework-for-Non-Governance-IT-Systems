{
 "cells": [
  {
   "cell_type": "code",
   "execution_count": 7,
   "id": "0d176cc1",
   "metadata": {},
   "outputs": [],
   "source": [
    "import numpy as np\n",
    "import pandas as pd\n",
    "import matplotlib.pyplot as plt\n",
    "\n",
    "from sklearn.preprocessing import StandardScaler\n",
    "from sklearn.model_selection import train_test_split\n",
    "from sklearn.metrics import (\n",
    "    confusion_matrix, classification_report, roc_auc_score, RocCurveDisplay, accuracy_score, precision_recall_fscore_support, ConfusionMatrixDisplay\n",
    ")\n",
    "from sklearn.ensemble import GradientBoostingClassifier\n",
    "\n",
    "import os"
   ]
  },
  {
   "cell_type": "code",
   "execution_count": 2,
   "id": "67138bcb",
   "metadata": {},
   "outputs": [],
   "source": [
    "DATA_DIR = \"../dataset\"\n",
    "OUTPUT_DIR = \"../results\"\n",
    "\n",
    "TRAIN_CSV = os.path.join(DATA_DIR, \"UNSW_NB15_training-set.csv\")\n",
    "TEST_CSV  = os.path.join(DATA_DIR, \"UNSW_NB15_testing-set.csv\")"
   ]
  },
  {
   "cell_type": "code",
   "execution_count": 3,
   "id": "da1c42e7",
   "metadata": {},
   "outputs": [],
   "source": [
    "#load data\n",
    "def load_data(train_csv, test_csv):\n",
    "    train = pd.read_csv(train_csv, low_memory=False)\n",
    "    test  = pd.read_csv(test_csv,  low_memory=False)\n",
    "    for df in (train, test):\n",
    "        df.columns = [c.strip().lower() for c in df.columns]\n",
    "    # expect 'label' present\n",
    "    return train, test\n",
    "\n",
    "train_df, test_df = load_data(TRAIN_CSV, TEST_CSV)"
   ]
  },
  {
   "cell_type": "code",
   "execution_count": 4,
   "id": "2281e19c",
   "metadata": {},
   "outputs": [],
   "source": [
    "#clean data\n",
    "def clean(df, drop_attack_cat=True):\n",
    "    df = df.copy()\n",
    "    drop_candidates = [c for c in [\"id\", \"label.1\", \"stime\", \"ltime\", \"timestamp\", \"time\"] if c in df.columns]\n",
    "    if drop_candidates:\n",
    "        df = df.drop(columns=drop_candidates)\n",
    "    y = df[\"label\"].astype(int)\n",
    "    df = df.drop(columns=[\"label\"])\n",
    "    if drop_attack_cat and \"attack_cat\" in df.columns:\n",
    "        df = df.drop(columns=[\"attack_cat\"])\n",
    "    cat_cols = df.select_dtypes(include=[\"object\"]).columns\n",
    "    for c in cat_cols:\n",
    "        df[c] = pd.factorize(df[c], sort=True)[0]\n",
    "    df = df.replace([np.inf, -np.inf], np.nan).dropna()\n",
    "    X = StandardScaler().fit_transform(df.values)\n",
    "    return X, y"
   ]
  },
  {
   "cell_type": "code",
   "execution_count": 5,
   "id": "97277348",
   "metadata": {},
   "outputs": [],
   "source": [
    "def eval_cls(model_name, y_true, y_hat, proba=None):\n",
    "    acc = accuracy_score(y_true, y_hat)\n",
    "    p, r, f1, _ = precision_recall_fscore_support(y_true, y_hat, average='binary', zero_division=0)\n",
    "    auc = None\n",
    "    if proba is not None:\n",
    "        try:\n",
    "            auc = roc_auc_score(y_true, proba)\n",
    "        except Exception:\n",
    "            pass\n",
    "    return {\n",
    "        \"model\": model_name,\n",
    "        \"accuracy\": acc,\n",
    "        \"precision_att\": p,\n",
    "        \"recall_att\": r,\n",
    "        \"f1_att\": f1,\n",
    "        \"roc_auc\": auc\n",
    "    }\n",
    "\n",
    "def show_report(name, y_true, y_hat):\n",
    "    from sklearn.metrics import classification_report, confusion_matrix\n",
    "    print(f\"\\n=== {name} ===\")\n",
    "    print(confusion_matrix(y_true, y_hat))\n",
    "    print(classification_report(y_true, y_hat, digits=4))"
   ]
  },
  {
   "cell_type": "code",
   "execution_count": 6,
   "id": "254cc8d7",
   "metadata": {},
   "outputs": [
    {
     "name": "stdout",
     "output_type": "stream",
     "text": [
      "\n",
      "=== GradientBoosting ===\n",
      "[[23476 13524]\n",
      " [ 6308 39024]]\n",
      "              precision    recall  f1-score   support\n",
      "\n",
      "           0     0.7882    0.6345    0.7030     37000\n",
      "           1     0.7426    0.8608    0.7974     45332\n",
      "\n",
      "    accuracy                         0.7591     82332\n",
      "   macro avg     0.7654    0.7477    0.7502     82332\n",
      "weighted avg     0.7631    0.7591    0.7550     82332\n",
      "\n"
     ]
    }
   ],
   "source": [
    "X_train, y_train = clean(train_df)\n",
    "X_test,  y_test  = clean(test_df)\n",
    "\n",
    "gb = GradientBoostingClassifier(random_state=42)\n",
    "gb.fit(X_train, y_train)\n",
    "y_hat_gb = gb.predict(X_test)\n",
    "try:\n",
    "    proba_gb = gb.predict_proba(X_test)[:,1]\n",
    "except Exception:\n",
    "    proba_gb = None\n",
    "\n",
    "show_report(\"GradientBoosting\", y_test, y_hat_gb)\n",
    "res_gb = eval_cls(\"GradBoost\", y_test, y_hat_gb, proba_gb)"
   ]
  },
  {
   "cell_type": "code",
   "execution_count": 8,
   "id": "f607e351",
   "metadata": {},
   "outputs": [],
   "source": [
    "MODEL_NAME = \"Gradient Boosting\"\n",
    "cm = confusion_matrix(y_test, y_hat_gb)\n",
    "pd.DataFrame(cm, index=[\"Actual_0\",\"Actual_1\"], columns=[\"Pred_0\",\"Pred_1\"])\\\n",
    "  .to_csv(os.path.join(OUTPUT_DIR, f\"{MODEL_NAME}_cm.csv\"), index=True)\n",
    "\n",
    "fig, ax = plt.subplots()\n",
    "ConfusionMatrixDisplay(cm).plot(ax=ax, colorbar=False)\n",
    "ax.set_title(f\"{MODEL_NAME} Confusion Matrix\")\n",
    "fig.tight_layout()\n",
    "fig.savefig(os.path.join(OUTPUT_DIR, f\"{MODEL_NAME}_cm.png\"), dpi=160)\n",
    "plt.close(fig)\n",
    "\n",
    "rep = classification_report(y_test, y_hat_gb, digits=4)\n",
    "with open(os.path.join(OUTPUT_DIR, f\"{MODEL_NAME}_report.txt\"), \"w\") as f:\n",
    "    f.write(rep)\n",
    "    \n",
    "try:\n",
    "    if proba_gb is not None:\n",
    "        fig, ax = plt.subplots()\n",
    "        RocCurveDisplay.from_predictions(y_test, proba_gb, ax=ax)\n",
    "        ax.set_title(f\"{MODEL_NAME} ROC\")\n",
    "        fig.tight_layout()\n",
    "        fig.savefig(os.path.join(OUTPUT_DIR, f\"{MODEL_NAME}_roc.png\"), dpi=160)\n",
    "        plt.close(fig)\n",
    "except NameError:\n",
    "    pass"
   ]
  }
 ],
 "metadata": {
  "kernelspec": {
   "display_name": "base",
   "language": "python",
   "name": "python3"
  },
  "language_info": {
   "codemirror_mode": {
    "name": "ipython",
    "version": 3
   },
   "file_extension": ".py",
   "mimetype": "text/x-python",
   "name": "python",
   "nbconvert_exporter": "python",
   "pygments_lexer": "ipython3",
   "version": "3.12.7"
  }
 },
 "nbformat": 4,
 "nbformat_minor": 5
}
